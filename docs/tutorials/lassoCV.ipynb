{
 "cells": [
  {
   "cell_type": "markdown",
   "metadata": {},
   "source": [
    "# lassoCV\n",
    "\n",
    "This notebook demonstrates how to conduct Lasso with stratified K fold cross validation\n",
    "on the Calling Cards data.  \n",
    "\n",
    "## Pulling the data\n",
    "\n",
    "The calling cards data should now strictly be taken from data source 'brent_nf_cc'. All\n",
    "of the Mitra data has been reprocessed through the nf-core/callingcards:1.0.0 pipeline.  \n",
    "\n",
    "Where there are multiple replicates, they have been aggregated. The `deduplicate`\n",
    "parameter to `PromoterSetSigAPI()` selects aggregated data where it exists. Where\n",
    "there is a single passing replicate, that replicate is used.\n",
    "\n",
    "## Setup\n",
    "\n",
    "As usual, import the `yeastdnnexplorer` interface functions"
   ]
  },
  {
   "cell_type": "code",
   "execution_count": 1,
   "metadata": {},
   "outputs": [],
   "source": [
    "# configure the logger to print to console\n",
    "import logging\n",
    "\n",
    "import pandas as pd\n",
    "import numpy as np\n",
    "from sklearn.linear_model import LassoCV\n",
    "\n",
    "from yeastdnnexplorer.interface import PromoterSetSigAPI, ExpressionAPI, metric_arrays, rank_transforms\n",
    "from yeastdnnexplorer.ml_models.lasso_modeling import (\n",
    "    generate_modeling_data,\n",
    "    stratification_classification,\n",
    "    stratified_cv_modeling,\n",
    "    bootstrap_stratified_cv_modeling,\n",
    "    examine_bootstrap_coefficients)\n",
    "\n",
    "\n",
    "logging.basicConfig(level=logging.INFO)\n",
    "\n",
    "pss_api = PromoterSetSigAPI()\n",
    "expression_api = ExpressionAPI()"
   ]
  },
  {
   "cell_type": "markdown",
   "metadata": {},
   "source": [
    "## Pull the deduplicated calling cards data\n",
    "\n",
    "This will pull all of the currently usable data. In the future, we will remove \n",
    "\"unreviewed\". This will take a minute or two as it will need to fetch all of the\n",
    "underlying data"
   ]
  },
  {
   "cell_type": "code",
   "execution_count": 2,
   "metadata": {},
   "outputs": [],
   "source": [
    "pss_api.push_params(\n",
    "    {\n",
    "        \"source_name\": \"brent_nf_cc\",\n",
    "        \"deduplicate\": \"true\",\n",
    "        \"data_usable\": [\"unreviewed\", \"pass\"],\n",
    "    }\n",
    ")\n",
    "\n",
    "pss_res = await pss_api.read(retrieve_files=True)"
   ]
  },
  {
   "cell_type": "markdown",
   "metadata": {},
   "source": [
    "## Pull the corresponding perturbation data\n",
    "\n",
    "In this case, we are pulling the McIsaac data. In order to label blacklisted genes,\n",
    "we'll need the shrunken data. For modelling, we will use the unshrunken data."
   ]
  },
  {
   "cell_type": "code",
   "execution_count": 3,
   "metadata": {},
   "outputs": [],
   "source": [
    "expression_api.push_params(\n",
    "    {\n",
    "        \"regulator_symbol\": \",\".join(\n",
    "            pss_res.get(\"metadata\").regulator_symbol.unique().tolist()\n",
    "        ),\n",
    "        \"source_name\": \"mcisaac_oe\",\n",
    "        \"time\": \"15\",\n",
    "    }\n",
    ")\n",
    "\n",
    "expression_res_shrunken = await expression_api.read(retrieve_files=True)\n",
    "\n",
    "# this will add the effect_colname parameter to the expression API\n",
    "expression_api.push_params(\n",
    "    {\n",
    "        \"effect_colname\": \"log2_ratio\",\n",
    "    }\n",
    ")\n",
    "\n",
    "expression_res_unshrunken = await expression_api.read(retrieve_files=True)"
   ]
  },
  {
   "cell_type": "markdown",
   "metadata": {},
   "source": [
    "## Transform the data into a usable format for modelling\n",
    "\n",
    "Note that there are new functions, `metric_arrays` and'\n",
    "`negative_log_transform_by_pvalue_and_enrichment`. See the API section of this\n",
    "documentation for more details.  \n",
    "\n",
    "You will likely want to save the results of this cell so that you do not have to run\n",
    "the DB or transformation steps in future sessions, unless of course you need or want\n",
    "to update the your data."
   ]
  },
  {
   "cell_type": "markdown",
   "metadata": {},
   "source": [
    "### Extract the data into a more managable format using `metric_arrays()`"
   ]
  },
  {
   "cell_type": "code",
   "execution_count": null,
   "metadata": {},
   "outputs": [],
   "source": [
    "X = metric_arrays(\n",
    "    pss_res,\n",
    "    {\"poisson_pval\": np.min, \"callingcards_enrichment\": np.max},\n",
    ")\n",
    "\n",
    "Y = metric_arrays(\n",
    "    expression_res_unshrunken,\n",
    "    {\"effect\": np.max},\n",
    ")\n",
    "\n",
    "Y_shrunken = metric_arrays(\n",
    "    expression_res_shrunken,\n",
    "    {\"effect\": np.max},\n",
    ")"
   ]
  },
  {
   "cell_type": "markdown",
   "metadata": {},
   "source": [
    "### Create gene level filters\n",
    "\n",
    "In this case, we wish to keep only the genes common to both the binding and expression,\n",
    "and create a 'blacklist' of genes which are either always responsive, or always\n",
    "unresponsive. The binding and response data will then be filtered such that only the\n",
    "common set of genes, which are not in the blacklist, are retained for analysis"
   ]
  },
  {
   "cell_type": "code",
   "execution_count": 5,
   "metadata": {},
   "outputs": [
    {
     "name": "stdout",
     "output_type": "stream",
     "text": [
      "                                  category  count\n",
      "0  Always unresponsive (perturbation only)      0\n",
      "1    Always responsive (perturbation only)     92\n",
      "2           Blacklisted(only shared genes)     90\n"
     ]
    }
   ],
   "source": [
    "# define a set of common genes between X and y\n",
    "common_genes = X[\"poisson_pval\"].index.intersection(\n",
    "    Y.get(\"effect\", pd.DataFrame()).index\n",
    ")\n",
    "\n",
    "# binarize the Y.get(\"effect\") DataFrame as True if the value is not 0\n",
    "# We wish to exclude any genes that are always unresponsive OR always responsive\n",
    "Y_binary = Y_shrunken.get(\"effect\", pd.DataFrame()).eq(0)\n",
    "\n",
    "always_unresponsive = Y_binary[~Y_binary.any(axis=1)].index\n",
    "always_responsive = Y_binary[Y_binary.all(axis=1)].index\n",
    "\n",
    "# combine always unresponsive and always responsive and intersect with common_genes\n",
    "# to get the blacklisted genes\n",
    "\n",
    "# define blacklisted genes as those records where the gene is either always responsive,\n",
    "# or always unresponsive, in all experiments\n",
    "blacklisted_genes = Y_binary[Y_binary.all(axis=1) | ~Y_binary.any(axis=1)].index.intersection(common_genes)\n",
    "\n",
    "# Count summary\n",
    "# NOTE: The blacklist is only over common genes. the always_unresponsive and always_responsive\n",
    "# are over all genes in the response data\n",
    "counts = pd.DataFrame.from_dict({\n",
    "    \"category\": [\"Always unresponsive (perturbation only)\", \"Always responsive (perturbation only)\", \"Blacklisted(only shared genes)\"],\n",
    "    \"count\": [len(always_unresponsive), len(always_responsive), len(blacklisted_genes)]\n",
    "})\n",
    "\n",
    "print(counts)"
   ]
  },
  {
   "cell_type": "markdown",
   "metadata": {},
   "source": [
    "### Use the common gene set and blacklist to filter the response and predictor data"
   ]
  },
  {
   "cell_type": "code",
   "execution_count": 6,
   "metadata": {},
   "outputs": [],
   "source": [
    "# remove the blacklist genes from Y and retain only common genes\n",
    "Y_filtered = Y.get(\"effect\", pd.DataFrame()).loc[common_genes].drop(blacklisted_genes)\n",
    "\n",
    "# remove the blacklisted_genes for X and retain only the common genes\n",
    "X_filtered = {}\n",
    "for key in X.keys():\n",
    "    X_filtered[key] = X[key].loc[common_genes].drop(blacklisted_genes)\n",
    "\n",
    "# Next, transform the X object into a predictors_df using the shifted negative log rank\n",
    "# transformation. See `negative_log_transform_by_pvalue_and_enrichment` for more\n",
    "# details\n",
    "scores_list = [\n",
    "    rank_transforms.negative_log_transform_by_pvalue_and_enrichment(\n",
    "        X_filtered[\"poisson_pval\"].loc[:, i],\n",
    "        X_filtered[\"callingcards_enrichment\"].loc[:, i],\n",
    "    )\n",
    "    for i in X_filtered[\"poisson_pval\"].columns\n",
    "]\n",
    "\n",
    "# Convert the list of scores into a DataFrame\n",
    "predictors_df = pd.DataFrame(scores_list).T\n",
    "\n",
    "# Set the index and columns to match X_filtered[\"poisson_pval\"]\n",
    "predictors_df.index = X_filtered[\"poisson_pval\"].index\n",
    "predictors_df.columns = X_filtered[\"poisson_pval\"].columns\n",
    "\n",
    "\n",
    "# conduct a similar shifted negative log rank transformation on the Y values\n",
    "Y_filtered_ranked = Y_filtered.rank(ascending=False, method=\"average\")\n",
    "Y_filtered_transformed = Y_filtered_ranked.apply(\n",
    "    rank_transforms.shifted_negative_log_ranks, axis=0)"
   ]
  },
  {
   "cell_type": "markdown",
   "metadata": {},
   "source": [
    "## Modeling per TF\n",
    "\n",
    "This demonstrates the usage on a single TF. The TFs are the columns in both the \n",
    "response and predictor dataframes. To run this on all TFs, you would simply iterate\n",
    "over the columns of the response DF. This can be done in parallel very easily on the\n",
    "cluster."
   ]
  },
  {
   "cell_type": "code",
   "execution_count": null,
   "metadata": {},
   "outputs": [],
   "source": [
    "# NOTE: drop_intercept is TRUE -- the model matrix will be strictly the predictors,\n",
    "# no constant term\n",
    "cbf1_y, cbf1_X = generate_modeling_data(\"CBF1\",\n",
    "                                        Y_filtered_transformed, predictors_df,\n",
    "                                        drop_intercept=True)\n",
    "\n",
    "classes = stratification_classification(cbf1_X['CBF1'].squeeze(), cbf1_y.squeeze())\n",
    "\n",
    "# NOTE: fit_intercept is set to `true`\n",
    "lassoCV_estimator = LassoCV(\n",
    "    fit_intercept=True,\n",
    "    max_iter=10000,\n",
    "    selection=\"random\",\n",
    "    random_state=42,\n",
    "    n_jobs=4)\n",
    "\n",
    "# Fit the model to the data in order to extract the alphas_ which are generated\n",
    "# during the fitting process\n",
    "lasso_model = stratified_cv_modeling(cbf1_y, cbf1_X, classes, lassoCV_estimator)\n",
    "\n",
    "# set the alphas_ attribute of the lassoCV_estimator to the alphas_ attribute of the\n",
    "# lasso_model fit on the whole data. This will allow the\n",
    "# bootstrap_stratified_cv_modeling function to use the same set of lambdas\n",
    "lassoCV_estimator.alphas_ = lasso_model.alphas_\n",
    "\n",
    "# if testing this for the first time, setting n_bootstrap to 10 is recommended for\n",
    "# speed\n",
    "# NOTE: fit_intercept=True is passed to the internal Lasso model for bootstrap\n",
    "# iterations, along with some other settings\n",
    "bootstrap_lasso_output = bootstrap_stratified_cv_modeling(\n",
    "    y=cbf1_y,\n",
    "    X=cbf1_X,\n",
    "    estimator=lassoCV_estimator,\n",
    "    ci_percentile=99,\n",
    "    n_bootstraps=1000,\n",
    "    max_iter=10000,\n",
    "    fit_intercept=True,\n",
    "    selection=\"random\",\n",
    "    random_state=42)"
   ]
  },
  {
   "cell_type": "markdown",
   "metadata": {},
   "source": [
    "## Visualize and extract significant coefficients\n",
    "\n",
    "You can use `examine_boostrap_coefficients()` to generate a plot, and extract a list,\n",
    "of coeffiecents whose user specified ci_interval exists beyond a specified threshold. \n",
    "For example, if `ci_interval = 95.0` and `threshold = 0`, then the coefficients that\n",
    "are returned are those whose 95.0 confidence interval do not cross zero.  \n",
    "\n",
    "In the example below, I set the ci_interval to 100.0 with a threshold of 0, which \n",
    "will return only coefficients where none of the bootstrap values cross 0."
   ]
  },
  {
   "cell_type": "code",
   "execution_count": 8,
   "metadata": {},
   "outputs": [
    {
     "name": "stdout",
     "output_type": "stream",
     "text": [
      "Significant coefficients for 100.0, where intervals are entirely above or below ±0.0:\n",
      "CBF1:DAT1: (-0.16940924467227142, -0.0017639790941411946)\n",
      "CBF1:MET28: (0.02486046494795294, 0.22769735162287097)\n",
      "CBF1:ABF1: (-0.1838813454555642, -0.01620972272568395)\n",
      "CBF1:GAL4: (0.047538447355681204, 0.36526567966016715)\n",
      "CBF1:MSN2: (0.013820123194068555, 0.2649142348597824)\n",
      "\n",
      "The coefficient closest to 0 is: CBF1:DAT1: (-0.16940924467227142, -0.0017639790941411946)\n"
     ]
    },
    {
     "data": {
      "image/png": "[encoded data removed]",
      "text/plain": [
       "<Figure size 1000x600 with 1 Axes>"
      ]
     },
     "metadata": {},
     "output_type": "display_data"
    }
   ],
   "source": [
    "# Let's say we want to return coefficients where none of the bootstrapped coefficient\n",
    "# estimates include 0. We can leave the `threshold` parameter as 0.0, and set `ci_level`\n",
    "# to 100.00\n",
    "sig_coef_plt, sig_coef_dict = examine_bootstrap_coefficients(\n",
    "    bootstrap_lasso_output,\n",
    "    ci_level=100.0)\n",
    "\n",
    "# we can also find out which coefficient has a value closest to 0\n",
    "min_key, min_bounds = min(sig_coef_dict.items(),\n",
    "                          key=lambda item: min(abs(item[1][0]), abs(item[1][1])))\n",
    "\n",
    "print(f\"\\nThe coefficient closest to 0 is: {min_key}: {min_bounds}\")"
   ]
  },
  {
   "cell_type": "markdown",
   "metadata": {},
   "source": [
    "## Using the cmd line utility\n",
    "\n",
    "There is a command line utility called lasso_bootstrap that may be launched like this:\n",
    "\n",
    "```bash\n",
    "#!/bin/bash\n",
    "\n",
    "python -m yeastdnnexplorer lasso_bootstrap \\\n",
    "    --response_file ../lasso_response_mcisaac15.csv \\\n",
    "    --predictors_file ../lasso_predictors_callingcards.csv \\\n",
    "    --perturbed_tf CBF1 \\\n",
    "    --n_bootstrap 1000 \\\n",
    "    --log-level ERROR\n",
    "```\n",
    "\n",
    "The output will, by default, be in a directory in the `PWD` called\n",
    "`lasso_bootstrap_output` with subdirectories named by `--perturbed_tf`. The output\n",
    "of `bootstrap_lasso_output()` will be saved, along with a lassoCV model run on the\n",
    "entire dataset as a joblib file.  \n",
    "\n",
    "To examine the results using `examine_bootstrap_coefficients()`, you would load the\n",
    "data like this:\n",
    "\n",
    "```python\n",
    "import json\n",
    "import pandas as pd\n",
    "\n",
    "from yeastdnnexplorer.ml_models.lasso_modeling import examine_bootstrap_coefficients\n",
    "\n",
    "\n",
    "with open(\"lasso_bootstrap_output/CBF1/ci_dict.json\", \"r\") as file:\n",
    "    coef_dict = json.load(file)\n",
    "\n",
    "coef_df = pd.read_csv(\"testing_lasso_cmd/lasso_bootstrap_output/CBF1/bootstrap_coef_df.csv\")\n",
    "\n",
    "alphas_list = pd.read_csv(\"lasso_bootstrap_output/CBF1/bootstrap_alphas.csv\")['alpha'].tolist()\n",
    "\n",
    "bootstrap_lasso_output = (coef_dict, coef_df, alphas_list)\n",
    "\n",
    "sig_coef_plt, sig_coef_dict = examine_bootstrap_coefficients(\n",
    "    bootstrap_lasso_output,\n",
    "    ci_level=100.0)\n",
    "\n",
    "```"
   ]
  }
 ],
 "metadata": {
  "kernelspec": {
   "display_name": ".venv",
   "language": "python",
   "name": "python3"
  },
  "language_info": {
   "codemirror_mode": {
    "name": "ipython",
    "version": 3
   },
   "file_extension": ".py",
   "mimetype": "text/x-python",
   "name": "python",
   "nbconvert_exporter": "python",
   "pygments_lexer": "ipython3",
   "version": "3.11.9"
  }
 },
 "nbformat": 4,
 "nbformat_minor": 2
}
